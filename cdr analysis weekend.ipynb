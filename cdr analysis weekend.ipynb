{
 "cells": [
  {
   "cell_type": "code",
   "execution_count": 1,
   "metadata": {
    "collapsed": true
   },
   "outputs": [],
   "source": [
    "import pandas as pd\n",
    "from datetime import timedelta\n",
    "from sklearn.cluster import KMeans\n",
    "import matplotlib.pyplot as plt\n",
    "import matplotlib\n",
    "\n",
    "matplotlib.style.use('ggplot') # Look Pretty\n",
    "\n",
    "\n",
    "\n",
    "\n",
    "def clusterInfo(model):\n",
    "  print(\"Cluster Analysis Inertia: \", model.inertia_)\n",
    "  print('------------------------------------------')\n",
    "  for i in range(len(model.cluster_centers_)):\n",
    "    print(\"\\n  Cluster \", i)\n",
    "    print(\"    Centroid \", model.cluster_centers_[i])\n",
    "    print(\"    #Samples \", (model.labels_==i).sum()) # NumPy Power\n",
    "\n",
    "\n",
    "def clusterWithFewestSamples(model):\n",
    " \n",
    "  minSamples = len(model.labels_)\n",
    "  minCluster = 0\n",
    "  for i in range(len(model.cluster_centers_)):\n",
    "    if minSamples > (model.labels_==i).sum():\n",
    "      minCluster = i\n",
    "      minSamples = (model.labels_==i).sum()\n",
    "  print(\"\\n  Cluster With Fewest Samples: \", minCluster)\n",
    "  return (model.labels_==minCluster)\n",
    "\n",
    "\n",
    "def doKMeans(data, clusters=0):\n",
    " \n",
    "  df1 = pd.concat([data.TowerLon, data.TowerLat], axis = 1)\n",
    "  kmeans = KMeans(n_clusters = clusters)\n",
    "  labels = kmeans.fit_predict(df1)\n",
    "  \n",
    "  centroids = kmeans.cluster_centers_\n",
    "  ax.scatter(x = centroids[:, 0], y = centroids[:, 1], c = 'r', marker = 'x', s = 100)\n",
    "  model = kmeans\n",
    "  return model"
   ]
  },
  {
   "cell_type": "code",
   "execution_count": 2,
   "metadata": {
    "collapsed": false
   },
   "outputs": [
    {
     "name": "stdout",
     "output_type": "stream",
     "text": [
      "           In         Out Direction    CallDate         CallTime  DOW  \\\n",
      "0  4638472273  2666307251  Incoming  2010-12-25  07:16:24.736813  Sat   \n",
      "1  4638472273  1755442610  Incoming  2010-12-25  21:18:30.053710  Sat   \n",
      "2  4638472273  5481755331  Incoming  2010-12-25  14:52:42.878016  Sat   \n",
      "3  4638472273  1755442610  Incoming  2010-12-25  16:02:09.001913  Sat   \n",
      "4  4638472273  2145623768  Incoming  2010-12-25  15:28:35.028554  Sat   \n",
      "\n",
      "         Duration                               TowerID   TowerLat   TowerLon  \n",
      "0  0:02:41.741499  0db53dd3-eb9c-4344-abc5-c2d74ebc3eec  32.731611 -96.709417  \n",
      "1  0:02:47.108750  aeaf8b43-8034-44fe-833d-31854a75acbf  32.731722 -96.709500  \n",
      "2  0:04:35.356341  fadaa83f-6001-45fd-aa4a-17d6c6b7ec00  32.899944 -96.910389  \n",
      "3  0:02:23.498499  fadaa83f-6001-45fd-aa4a-17d6c6b7ec00  32.899944 -96.910389  \n",
      "4  0:03:54.692497  95d7920d-c3cd-4d20-a568-9a55800dc807  32.899944 -96.910389  \n",
      "In                     int64\n",
      "Out                    int64\n",
      "Direction             object\n",
      "CallDate      datetime64[ns]\n",
      "CallTime     timedelta64[ns]\n",
      "DOW                   object\n",
      "Duration     timedelta64[ns]\n",
      "TowerID               object\n",
      "TowerLat             float64\n",
      "TowerLon             float64\n",
      "dtype: object\n",
      "Empty DataFrame\n",
      "Columns: [In, Out, Direction, CallDate, CallTime, DOW, Duration, TowerID, TowerLat, TowerLon]\n",
      "Index: []\n"
     ]
    }
   ],
   "source": [
    "df = pd.read_csv('F:\\\\CSV files\\\\CDR.csv')\n",
    "print(df.head())\n",
    "df.CallDate = pd.to_datetime(df.CallDate)\n",
    "df.Duration = pd.to_timedelta(df.Duration)\n",
    "df.CallTime = pd.to_timedelta(df.CallTime)\n",
    "print(df.dtypes)\n",
    "print(df[(df.TowerLat == 32.721986) & (df.TowerLon == -96.890587)]) #the data for second question (post office Lon/Lat))"
   ]
  },
  {
   "cell_type": "code",
   "execution_count": 3,
   "metadata": {
    "collapsed": false
   },
   "outputs": [
    {
     "name": "stdout",
     "output_type": "stream",
     "text": [
      "[4638472273 1559410755 4931532174 2419930464 1884182865 3688089071\n",
      " 4555003213 2068627935 2894365987 8549533077]\n"
     ]
    }
   ],
   "source": [
    "users = df.In.unique()\n",
    "print(users)"
   ]
  },
  {
   "cell_type": "code",
   "execution_count": 4,
   "metadata": {
    "collapsed": false
   },
   "outputs": [
    {
     "name": "stdout",
     "output_type": "stream",
     "text": [
      "\n",
      "\n",
      "Examining person:  6\n"
     ]
    }
   ],
   "source": [
    "print(\"\\n\\nExamining person: \",6)\n",
    "user1 = df[(df.In == users[ 6])]"
   ]
  },
  {
   "cell_type": "code",
   "execution_count": 9,
   "metadata": {
    "collapsed": true
   },
   "outputs": [],
   "source": [
    "user1 = user1[(user1.DOW == 'Mon') | (user1.DOW == 'Tue') | (user1.DOW == 'Wed') | (user1.DOW == 'Thu') | (user1.DOW == 'Fri')]\n",
    "\n",
    "\n",
    "user1 = user1[(user1.CallTime < \"17:00:00\")]\n"
   ]
  },
  {
   "cell_type": "code",
   "execution_count": 10,
   "metadata": {
    "collapsed": false
   },
   "outputs": [
    {
     "name": "stdout",
     "output_type": "stream",
     "text": [
      "\n",
      "  Cluster With Fewest Samples:  2\n",
      "    Its Waypoint Time:  0 days 08:04:09.204236\n"
     ]
    },
    {
     "data": {
      "image/png": "[encoded data removed]",
      "text/plain": [
       "<Figure size 432x288 with 1 Axes>"
      ]
     },
     "metadata": {},
     "output_type": "display_data"
    }
   ],
   "source": [
    "fig = plt.figure()\n",
    "ax = fig.add_subplot(111)\n",
    "ax.scatter(user1.TowerLon,user1.TowerLat, c='g', marker='o', alpha=0.2)\n",
    "ax.set_title('Weekday Calls before 5PM')\n",
    "\n",
    "\n",
    "\n",
    "model = doKMeans(user1, 3)\n",
    "\n",
    "\n",
    "midWayClusterIndices = clusterWithFewestSamples(model)\n",
    "midWaySamples = user1[midWayClusterIndices]\n",
    "print(\"    Its Waypoint Time: \", midWaySamples.CallTime.mean())\n",
    "\n",
    "\n",
    "ax.scatter(model.cluster_centers_[:,0], model.cluster_centers_[:,1], s=169, c='r', marker='x', alpha=0.8, linewidths=2)\n",
    "ax.set_title('Weekday Calls Centroids')\n",
    "plt.show() "
   ]
  },
  {
   "cell_type": "code",
   "execution_count": null,
   "metadata": {
    "collapsed": true
   },
   "outputs": [],
   "source": []
  }
 ],
 "metadata": {
  "kernelspec": {
   "display_name": "Python 3",
   "language": "python",
   "name": "python3"
  },
  "language_info": {
   "codemirror_mode": {
    "name": "ipython",
    "version": 3
   },
   "file_extension": ".py",
   "mimetype": "text/x-python",
   "name": "python",
   "nbconvert_exporter": "python",
   "pygments_lexer": "ipython3",
   "version": "3.6.5"
  }
 },
 "nbformat": 4,
 "nbformat_minor": 2
}
